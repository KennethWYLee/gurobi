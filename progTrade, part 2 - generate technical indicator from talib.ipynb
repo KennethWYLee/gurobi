{
 "cells": [
  {
   "cell_type": "code",
   "execution_count": null,
   "id": "82d95fc8",
   "metadata": {},
   "outputs": [],
   "source": [
    "# 安裝 talib\n",
    "# https://blog.quantinsti.com/install-ta-lib-python/\n",
    "\n",
    "# talib 官方文件\n",
    "# https://mrjbq7.github.io/ta-lib/"
   ]
  },
  {
   "cell_type": "code",
   "execution_count": 1,
   "id": "4e77b3bf",
   "metadata": {},
   "outputs": [
    {
     "name": "stdout",
     "output_type": "stream",
     "text": [
      "C:\\Users\\User\\anaconda3\\envs\\nlp\\python.exe\n",
      "3.8.11 (default, Aug  6 2021, 09:57:55) [MSC v.1916 64 bit (AMD64)]\n",
      "sys.version_info(major=3, minor=8, micro=11, releaselevel='final', serial=0)\n"
     ]
    }
   ],
   "source": [
    "# check python version\n",
    "import sys\n",
    "print(sys.executable)\n",
    "print(sys.version)\n",
    "print(sys.version_info)"
   ]
  },
  {
   "cell_type": "code",
   "execution_count": 2,
   "id": "5f1c5e7e",
   "metadata": {},
   "outputs": [],
   "source": [
    "import numpy as np\n",
    "from talib.abstract import *\n",
    "import pandas as pd"
   ]
  },
  {
   "cell_type": "code",
   "execution_count": 4,
   "id": "b20851a9",
   "metadata": {},
   "outputs": [],
   "source": [
    "# note that all ndarrays must be the same length!\n",
    "input_arrays = {\n",
    "    'open': np.random.random(100),\n",
    "    'high': np.random.random(100),\n",
    "    'low': np.random.random(100),\n",
    "    'close': np.random.random(100),\n",
    "    'volume': np.random.random(100)\n",
    "}"
   ]
  },
  {
   "cell_type": "code",
   "execution_count": 6,
   "id": "11f8323e",
   "metadata": {},
   "outputs": [],
   "source": [
    "real = SMA(input_arrays, timeperiod=30)\n",
    "output = SMA(input_arrays, timeperiod=25) # calculate on close prices by default\n",
    "output = SMA(input_arrays, timeperiod=25, price='open') # calculate on opens\n",
    "# upper, middle, lower = BBANDS(input_arrays, 20, 2, 2)\n",
    "slowk, slowd = STOCH(input_arrays, 5, 3, 0, 3, 0) # uses high, low, close by default\n",
    "slowk, slowd = STOCH(input_arrays, 5, 3, 0, 3, 0, prices=['high', 'low', 'open'])"
   ]
  },
  {
   "cell_type": "code",
   "execution_count": 7,
   "id": "483844f2",
   "metadata": {},
   "outputs": [],
   "source": [
    "upperband, middleband, lowerband = BBANDS(input_arrays, timeperiod=5, nbdevup=2.0\\\n",
    "                                          , nbdevdn=2.0, matype=0)"
   ]
  },
  {
   "cell_type": "code",
   "execution_count": 9,
   "id": "3abdaf48",
   "metadata": {},
   "outputs": [
    {
     "data": {
      "text/plain": [
       "{'name': 'SMA',\n",
       " 'group': 'Overlap Studies',\n",
       " 'display_name': 'Simple Moving Average',\n",
       " 'function_flags': ['Output scale same as input'],\n",
       " 'input_names': OrderedDict([('price', 'close')]),\n",
       " 'parameters': OrderedDict([('timeperiod', 30)]),\n",
       " 'output_flags': OrderedDict([('real', ['Line'])]),\n",
       " 'output_names': ['real']}"
      ]
     },
     "execution_count": 9,
     "metadata": {},
     "output_type": "execute_result"
    }
   ],
   "source": [
    "Function('SMA').info"
   ]
  },
  {
   "cell_type": "code",
   "execution_count": 10,
   "id": "3425cdee",
   "metadata": {},
   "outputs": [],
   "source": [
    "output = SMA(input_arrays, timeperiod=15)"
   ]
  },
  {
   "cell_type": "code",
   "execution_count": 11,
   "id": "61e20bd0",
   "metadata": {},
   "outputs": [
    {
     "data": {
      "text/plain": [
       "array([       nan,        nan,        nan,        nan,        nan,\n",
       "              nan,        nan,        nan,        nan,        nan,\n",
       "              nan,        nan,        nan,        nan, 0.60440252,\n",
       "       0.60067705, 0.54082928, 0.51174458, 0.45384828, 0.48086156,\n",
       "       0.50500152, 0.48573403, 0.49472696, 0.46069296, 0.44083608,\n",
       "       0.46209483, 0.42697563, 0.38799249, 0.41403875, 0.46228948,\n",
       "       0.4403533 , 0.47934472, 0.49849071, 0.50650189, 0.51831227,\n",
       "       0.52076372, 0.54347791, 0.56171591, 0.54273829, 0.53376895,\n",
       "       0.52558724, 0.53838357, 0.58089961, 0.6121921 , 0.56081574,\n",
       "       0.55033292, 0.51867322, 0.50778981, 0.53219972, 0.53487581,\n",
       "       0.53651876, 0.54946227, 0.55610591, 0.574059  , 0.58217298,\n",
       "       0.53545254, 0.5094544 , 0.51653805, 0.47722875, 0.50414173,\n",
       "       0.51295961, 0.55996332, 0.58662773, 0.55601189, 0.51673598,\n",
       "       0.53735217, 0.50468203, 0.50696892, 0.54297429, 0.55481717,\n",
       "       0.58494311, 0.6013863 , 0.54839951, 0.53176206, 0.5312748 ,\n",
       "       0.55684444, 0.50012793, 0.48337533, 0.54010815, 0.56668682,\n",
       "       0.57531352, 0.60177884, 0.54690779, 0.54458315, 0.53647952,\n",
       "       0.52750388, 0.52421216, 0.54228221, 0.5731453 , 0.56862432,\n",
       "       0.55396104, 0.55607881, 0.5685596 , 0.54213017, 0.53469483,\n",
       "       0.52112463, 0.49464324, 0.5426629 , 0.49729008, 0.48825168])"
      ]
     },
     "execution_count": 11,
     "metadata": {},
     "output_type": "execute_result"
    }
   ],
   "source": [
    "output"
   ]
  }
 ],
 "metadata": {
  "kernelspec": {
   "display_name": "Python 3 (ipykernel)",
   "language": "python",
   "name": "python3"
  },
  "language_info": {
   "codemirror_mode": {
    "name": "ipython",
    "version": 3
   },
   "file_extension": ".py",
   "mimetype": "text/x-python",
   "name": "python",
   "nbconvert_exporter": "python",
   "pygments_lexer": "ipython3",
   "version": "3.8.11"
  }
 },
 "nbformat": 4,
 "nbformat_minor": 5
}
